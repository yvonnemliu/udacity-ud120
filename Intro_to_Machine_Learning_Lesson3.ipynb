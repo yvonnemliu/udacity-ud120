{
 "cells": [
  {
   "cell_type": "markdown",
   "id": "66c3f06d",
   "metadata": {},
   "source": [
    "## Import Modules"
   ]
  },
  {
   "cell_type": "code",
   "execution_count": 69,
   "id": "bed790f8",
   "metadata": {},
   "outputs": [],
   "source": [
    "#!/usr/bin/python3\n",
    "\n",
    "from email_preprocess import preprocess\n",
    "import joblib\n",
    "import numpy\n",
    "import pickle\n",
    "import sys\n",
    "from sklearn import svm\n",
    "from sklearn.svm import SVC\n",
    "from sklearn.metrics import accuracy_score\n",
    "from sklearn.model_selection import train_test_split\n",
    "from sklearn.feature_extraction.text import TfidfVectorizer\n",
    "from sklearn.feature_selection import SelectPercentile, f_classif\n",
    "from time import time\n",
    "import os\n",
    "\n",
    "sys.path.append(\"/Users/yvonnel/ud120-projects/tools/\")\n",
    "sys.path.append('/Users/yvonnel/ud120-projects/choose_your_own')\n",
    "sys.path.append('/Users/yvonnel/ud120-projects/svm')\n",
    "os.chdir('/Users/yvonnel/ud120-projects/svm')\n"
   ]
  },
  {
   "cell_type": "markdown",
   "id": "59fd36a1",
   "metadata": {},
   "source": [
    "## Define Functions"
   ]
  },
  {
   "cell_type": "code",
   "execution_count": 90,
   "id": "ed39028e",
   "metadata": {},
   "outputs": [
    {
     "name": "stdout",
     "output_type": "stream",
     "text": [
      "No. of Chris training emails :  7936\n",
      "No. of Sara training emails :  7884\n"
     ]
    }
   ],
   "source": [
    "#!/usr/bin/python3\n",
    "\n",
    "\"\"\" \n",
    "    authors and labels:\n",
    "    Sara has label 0\n",
    "    Chris has label 1\n",
    "\"\"\"\n",
    "\n",
    "### features_train and features_test are the features for the training and testing datasets, respectively\n",
    "### labels_train and labels_test are the corresponding item labels\n",
    "\n",
    "features_train, features_test, labels_train, labels_test = preprocess()\n",
    "\n",
    "# Note that gamma = \"auto\" is used here so that the answer matches Udacity's Question #32 (Lesson 3).\n",
    "def yvonne_svm(features_train, features_test, labels_train, labels_test, kernel, C):\n",
    "    clf = SVC(kernel = kernel, C=C, gamma = 'auto')\n",
    "    t0 = time()\n",
    "    clf.fit(features_train,labels_train)\n",
    "    print(\"training time:\", round(time()-t0, 3), \"s\")\n",
    "    t0 = time()\n",
    "    pred = clf.predict(features_test)\n",
    "    print(\"Predicting Time:\", round(time()-t0, 3), \"s\")\n",
    "    accuracy = accuracy_score(labels_test, pred)\n",
    "    print(\"Accuracy is:\", round(accuracy*100, 4),\"%\")"
   ]
  },
  {
   "cell_type": "code",
   "execution_count": 74,
   "id": "1bb9be6b",
   "metadata": {},
   "outputs": [
    {
     "name": "stdout",
     "output_type": "stream",
     "text": [
      "training time: 180.669 s\n",
      "Predicting Time: 26.353 s\n",
      "Accuracy is: 98.41 %\n"
     ]
    }
   ],
   "source": [
    "# sklearn SVC classifier\n",
    "# linear model\n",
    "yvonne_svm(features_train, features_test, labels_train, labels_test, kernel='linear', C=1.0)"
   ]
  },
  {
   "cell_type": "code",
   "execution_count": 91,
   "id": "bde8e298",
   "metadata": {},
   "outputs": [
    {
     "name": "stdout",
     "output_type": "stream",
     "text": [
      "training time: 0.104 s\n",
      "Predicting Time: 0.992 s\n",
      "Accuracy is: 88.4528 %\n"
     ]
    }
   ],
   "source": [
    "# sklearn SVC classifier\n",
    "# linear model\n",
    "# train it on a smaller training dataset\n",
    "features_train_small = features_train[:int(len(features_train)//100)]\n",
    "labels_train_small = labels_train[:int(len(labels_train)//100)]\n",
    "\n",
    "\n",
    "yvonne_svm(features_train_small, features_test, labels_train_small, labels_test, kernel='linear', C=1.0)"
   ]
  },
  {
   "cell_type": "code",
   "execution_count": 92,
   "id": "b7ce1136",
   "metadata": {},
   "outputs": [
    {
     "name": "stdout",
     "output_type": "stream",
     "text": [
      "training time: 0.117 s\n",
      "Predicting Time: 1.172 s\n",
      "Accuracy is: 61.6041 %\n"
     ]
    }
   ],
   "source": [
    "# Keep the training set slice code from the last quiz, so that you are \n",
    "# still training on only 1% of the full training set. Change the kernel of your SVM to “rbf”. \n",
    "# What’s the accuracy now, with this more complex kernel?\n",
    "yvonne_svm(features_train_small, features_test, labels_train_small, labels_test, kernel='rbf', C=1.0)"
   ]
  },
  {
   "cell_type": "code",
   "execution_count": 93,
   "id": "fabfb12d",
   "metadata": {},
   "outputs": [
    {
     "name": "stdout",
     "output_type": "stream",
     "text": [
      "C:  1\n",
      "training time: 0.118 s\n",
      "Predicting Time: 1.088 s\n",
      "Accuracy is: 61.6041 %\n",
      "------ \n",
      "\n",
      "\n",
      "C:  10\n",
      "training time: 0.102 s\n",
      "Predicting Time: 1.02 s\n",
      "Accuracy is: 61.6041 %\n",
      "------ \n",
      "\n",
      "\n",
      "C:  100\n",
      "training time: 0.108 s\n",
      "Predicting Time: 1.086 s\n",
      "Accuracy is: 61.6041 %\n",
      "------ \n",
      "\n",
      "\n",
      "C:  1000\n",
      "training time: 0.087 s\n",
      "Predicting Time: 0.994 s\n",
      "Accuracy is: 82.1388 %\n",
      "------ \n",
      "\n",
      "\n",
      "C:  10000\n",
      "training time: 0.106 s\n",
      "Predicting Time: 0.837 s\n",
      "Accuracy is: 89.2491 %\n",
      "------ \n",
      "\n",
      "\n"
     ]
    }
   ],
   "source": [
    "# Keep the training set size and rbf kernel from the last quiz, but try several values of C (say, 10.0, 100., 1000., and 10000.). \n",
    "# Which one gives the best accuracy? ==> 10000\n",
    "for C in [1, 10, 100, 1000, 10000]:\n",
    "    print(\"C: \", C)\n",
    "    yvonne_svm(features_train_small, features_test, labels_train_small, labels_test, kernel='rbf', C=C)\n",
    "    print(\"------\", '\\n\\n')"
   ]
  },
  {
   "cell_type": "code",
   "execution_count": 94,
   "id": "7dba7d67",
   "metadata": {},
   "outputs": [
    {
     "name": "stdout",
     "output_type": "stream",
     "text": [
      "training time: 118.472 s\n",
      "Predicting Time: 16.189 s\n",
      "Accuracy is: 99.0899 %\n"
     ]
    }
   ],
   "source": [
    "# Now that you’ve optimized C for the RBF kernel, go back to using the full training set. \n",
    "# In general, having a larger training set will improve the performance of your algorithm, so (by tuning C and training on a large dataset) we should get a fairly optimized result. \n",
    "# What is the accuracy of the optimized SVM?\n",
    "yvonne_svm(features_train, features_test, labels_train, labels_test, kernel='rbf', C=10000)"
   ]
  },
  {
   "cell_type": "code",
   "execution_count": null,
   "id": "ea5bed22",
   "metadata": {},
   "outputs": [],
   "source": []
  }
 ],
 "metadata": {
  "kernelspec": {
   "display_name": "Python 3",
   "language": "python",
   "name": "python3"
  },
  "language_info": {
   "codemirror_mode": {
    "name": "ipython",
    "version": 3
   },
   "file_extension": ".py",
   "mimetype": "text/x-python",
   "name": "python",
   "nbconvert_exporter": "python",
   "pygments_lexer": "ipython3",
   "version": "3.7.9"
  }
 },
 "nbformat": 4,
 "nbformat_minor": 5
}
