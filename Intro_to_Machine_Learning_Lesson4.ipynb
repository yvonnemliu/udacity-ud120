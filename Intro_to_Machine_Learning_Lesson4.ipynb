{
 "cells": [
  {
   "cell_type": "markdown",
   "id": "b24a079e",
   "metadata": {},
   "source": [
    "## Import Modules"
   ]
  },
  {
   "cell_type": "code",
   "execution_count": 14,
   "id": "30ea8dc3",
   "metadata": {},
   "outputs": [],
   "source": [
    "#!/usr/bin/python3\n",
    "\n",
    "import sys\n",
    "import os\n",
    "\n",
    "sys.path.append(\"/Users/yvonnel/ud120-projects/tools/\")\n",
    "sys.path.append('/Users/yvonnel/ud120-projects/choose_your_own')\n",
    "sys.path.append('/Users/yvonnel/ud120-projects/svm')\n",
    "os.chdir('/Users/yvonnel/ud120-projects/svm')\n",
    "\n",
    "from email_preprocess import preprocess\n",
    "from email_preprocess_1 import preprocess_one\n",
    "import joblib\n",
    "import numpy\n",
    "import pickle\n",
    "from sklearn import svm\n",
    "from sklearn import tree\n",
    "from sklearn.svm import SVC\n",
    "from sklearn.metrics import accuracy_score\n",
    "from sklearn.model_selection import train_test_split\n",
    "from sklearn.feature_extraction.text import TfidfVectorizer\n",
    "from sklearn.feature_selection import SelectPercentile, f_classif\n",
    "from time import time\n"
   ]
  },
  {
   "cell_type": "markdown",
   "id": "f3c9fa30",
   "metadata": {},
   "source": [
    "## Define Functions"
   ]
  },
  {
   "cell_type": "code",
   "execution_count": 5,
   "id": "4d2d1672",
   "metadata": {},
   "outputs": [
    {
     "name": "stdout",
     "output_type": "stream",
     "text": [
      "No. of Chris training emails :  7936\n",
      "No. of Sara training emails :  7884\n"
     ]
    }
   ],
   "source": [
    "#!/usr/bin/python3\n",
    "\n",
    "\"\"\" \n",
    "    authors and labels:\n",
    "    Sara has label 0\n",
    "    Chris has label 1\n",
    "\"\"\"\n",
    "\n",
    "### features_train and features_test are the features for the training and testing datasets, respectively\n",
    "### labels_train and labels_test are the corresponding item labels\n",
    "\n",
    "features_train, features_test, labels_train, labels_test = preprocess()\n",
    "\n",
    "# Note that gamma = \"auto\" is used here so that the answer matches Udacity's Question #32 (Lesson 3).\n",
    "def yvonne_dc(features_train, features_test, labels_train, labels_test, mss):\n",
    "    clf = tree.DecisionTreeClassifier(min_samples_split = mss)\n",
    "    t0 = time()    \n",
    "    clf.fit(features_train,labels_train)\n",
    "    print(\"training time:\", round(time()-t0, 3), \"s\")\n",
    "    t0 = time()\n",
    "    pred = clf.predict(features_test)\n",
    "    print(\"Predicting Time:\", round(time()-t0, 3), \"s\")\n",
    "    accuracy = accuracy_score(labels_test, pred)\n",
    "    print(\"Accuracy is:\", round(accuracy*100, 4),\"%\")"
   ]
  },
  {
   "cell_type": "markdown",
   "id": "e242e7ae",
   "metadata": {},
   "source": [
    "### Setting min_samples_split=40. It will probably take a while to train. What’s the accuracy?"
   ]
  },
  {
   "cell_type": "code",
   "execution_count": 6,
   "id": "6266faf1",
   "metadata": {},
   "outputs": [
    {
     "name": "stdout",
     "output_type": "stream",
     "text": [
      "training time: 49.082 s\n",
      "Predicting Time: 0.025 s\n",
      "Accuracy is: 97.8385 %\n"
     ]
    }
   ],
   "source": [
    "yvonne_dc(features_train, features_test, labels_train, labels_test, 40)"
   ]
  },
  {
   "cell_type": "markdown",
   "id": "e6ed0b03",
   "metadata": {},
   "source": [
    "### How many features are there in the data?"
   ]
  },
  {
   "cell_type": "code",
   "execution_count": 13,
   "id": "66ce2cac",
   "metadata": {},
   "outputs": [
    {
     "data": {
      "text/plain": [
       "3785"
      ]
     },
     "execution_count": 13,
     "metadata": {},
     "output_type": "execute_result"
    }
   ],
   "source": [
    "len(features_train[0])"
   ]
  },
  {
   "cell_type": "markdown",
   "id": "c96414c8",
   "metadata": {},
   "source": [
    "### Change percentile from 10 to 1, and rerun dt_author_id.py. What’s the number of features now?"
   ]
  },
  {
   "cell_type": "code",
   "execution_count": 15,
   "id": "25c77af8",
   "metadata": {},
   "outputs": [
    {
     "name": "stdout",
     "output_type": "stream",
     "text": [
      "No. of Chris training emails :  7936\n",
      "No. of Sara training emails :  7884\n",
      "training time: 3.105 s\n",
      "Predicting Time: 0.003 s\n",
      "Accuracy is: 96.7008 %\n"
     ]
    }
   ],
   "source": [
    "features_train, features_test, labels_train, labels_test = preprocess_one()\n",
    "yvonne_dc(features_train, features_test, labels_train, labels_test, 40)"
   ]
  },
  {
   "cell_type": "markdown",
   "id": "7f9e995e",
   "metadata": {},
   "source": [
    "### How many features are there in the data now?"
   ]
  },
  {
   "cell_type": "code",
   "execution_count": 18,
   "id": "4101a06d",
   "metadata": {},
   "outputs": [
    {
     "data": {
      "text/plain": [
       "379"
      ]
     },
     "execution_count": 18,
     "metadata": {},
     "output_type": "execute_result"
    }
   ],
   "source": [
    "len(features_train[0])"
   ]
  }
 ],
 "metadata": {
  "kernelspec": {
   "display_name": "Python 3",
   "language": "python",
   "name": "python3"
  },
  "language_info": {
   "codemirror_mode": {
    "name": "ipython",
    "version": 3
   },
   "file_extension": ".py",
   "mimetype": "text/x-python",
   "name": "python",
   "nbconvert_exporter": "python",
   "pygments_lexer": "ipython3",
   "version": "3.7.9"
  }
 },
 "nbformat": 4,
 "nbformat_minor": 5
}
